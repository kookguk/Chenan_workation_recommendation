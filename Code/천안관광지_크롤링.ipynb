{
 "cells": [
  {
   "cell_type": "code",
   "execution_count": 59,
   "id": "36906bf1",
   "metadata": {},
   "outputs": [
    {
     "name": "stdout",
     "output_type": "stream",
     "text": [
      "^C\n",
      "Note: you may need to restart the kernel to use updated packages.\n"
     ]
    }
   ],
   "source": [
    "pip install webdriver-manager"
   ]
  },
  {
   "cell_type": "code",
   "execution_count": 94,
   "id": "15804f72",
   "metadata": {},
   "outputs": [],
   "source": [
    "import time\n",
    "\n",
    "import warnings\n",
    "import pandas as pd\n",
    "\n",
    "warnings.filterwarnings('ignore')"
   ]
  },
  {
   "cell_type": "code",
   "execution_count": 61,
   "id": "dfe4e787",
   "metadata": {},
   "outputs": [
    {
     "name": "stdout",
     "output_type": "stream",
     "text": [
      "Requirement already satisfied: webdriver-manager in c:\\users\\82106\\anaconda3\\lib\\site-packages (4.0.2)\n",
      "Requirement already satisfied: requests in c:\\users\\82106\\anaconda3\\lib\\site-packages (from webdriver-manager) (2.31.0)\n",
      "Requirement already satisfied: python-dotenv in c:\\users\\82106\\anaconda3\\lib\\site-packages (from webdriver-manager) (1.0.1)\n",
      "Requirement already satisfied: packaging in c:\\users\\82106\\anaconda3\\lib\\site-packages (from webdriver-manager) (23.0)\n",
      "Requirement already satisfied: charset-normalizer<4,>=2 in c:\\users\\82106\\anaconda3\\lib\\site-packages (from requests->webdriver-manager) (2.0.4)\n",
      "Requirement already satisfied: idna<4,>=2.5 in c:\\users\\82106\\anaconda3\\lib\\site-packages (from requests->webdriver-manager) (3.4)\n",
      "Requirement already satisfied: urllib3<3,>=1.21.1 in c:\\users\\82106\\anaconda3\\lib\\site-packages (from requests->webdriver-manager) (1.26.16)\n",
      "Requirement already satisfied: certifi>=2017.4.17 in c:\\users\\82106\\anaconda3\\lib\\site-packages (from requests->webdriver-manager) (2023.7.22)\n"
     ]
    },
    {
     "name": "stderr",
     "output_type": "stream",
     "text": [
      "\n",
      "[notice] A new release of pip is available: 24.0 -> 24.2\n",
      "[notice] To update, run: python.exe -m pip install --upgrade pip\n"
     ]
    }
   ],
   "source": [
    "from selenium import webdriver  # 동적크롤링\n",
    "from webdriver_manager.chrome import ChromeDriverManager\n",
    "from selenium.webdriver.common.keys import Keys\n",
    "from selenium.webdriver.common.by import By\n",
    "from bs4 import BeautifulSoup"
   ]
  },
  {
   "cell_type": "code",
   "execution_count": 97,
   "id": "f2cdc918",
   "metadata": {},
   "outputs": [],
   "source": [
    "# 카카오 맵으로 이동\n",
    "\n",
    "driver = webdriver.Chrome()\n",
    "url = \"https://map.kakao.com/\"\n",
    "driver.get(url)"
   ]
  },
  {
   "cell_type": "code",
   "execution_count": 98,
   "id": "531c6192",
   "metadata": {},
   "outputs": [
    {
     "data": {
      "text/plain": [
       "['천안종합버스터미널',\n",
       " '신세계백화점천안아산점',\n",
       " '독립기념관',\n",
       " '갤러리아백화점센터시티점',\n",
       " '모다아울렛천안아산점',\n",
       " '천안중앙시장',\n",
       " '천안시농수산물도매시장',\n",
       " '천안축구센터',\n",
       " '오션어드벤처',\n",
       " '천안상록CC',\n",
       " '각원사',\n",
       " '롯데시네마천안불당',\n",
       " 'CGV천안펜타포트',\n",
       " '천안상록리조트',\n",
       " '골프존카운티천안',\n",
       " '마론뉴데이CC',\n",
       " '천안고속버스터미널',\n",
       " '우정힐스CC',\n",
       " '렛츠런CCC천안지점',\n",
       " '천안예술의전당',\n",
       " '천안박물관휴관중(2025년06월개관예정)',\n",
       " '롯데시네마천안청당',\n",
       " 'CGV천안시청',\n",
       " '성성호수공원',\n",
       " '메가박스천안',\n",
       " '메가도매센터',\n",
       " '광덕사',\n",
       " '천안삼거리공원',\n",
       " '태학산자연휴양림',\n",
       " '천안성성호수공원방문자센터',\n",
       " 'CGV천안터미널',\n",
       " '국립중앙청소년수련원',\n",
       " '아름다운정원화수목',\n",
       " '성환시외버스터미널',\n",
       " 'CGV천안',\n",
       " '천호지',\n",
       " '바운스슈퍼파크천안센터',\n",
       " '천안홍대용과학관',\n",
       " '천안타운홀전망대',\n",
       " '천안시민체육공원',\n",
       " '원성천벚꽃길',\n",
       " '아우내장터',\n",
       " '천안골프클럽',\n",
       " '청수호수공원',\n",
       " '유관순열사기념관',\n",
       " '상록리조트상록랜드',\n",
       " '성환이화시장',\n",
       " '천안시태조산청소년수련관',\n",
       " '봉서홀']"
      ]
     },
     "execution_count": 98,
     "metadata": {},
     "output_type": "execute_result"
    }
   ],
   "source": [
    "# 엑셀 파일 불러오기\n",
    "df = pd.read_csv(r\"C:\\Users\\82106\\Desktop\\공모전\\천안 공모전\\천안시 관광지.csv\")\n",
    "\n",
    "# 관광지명 컬럼 데이터 리스트로 변환\n",
    "tourist_spots = df['관광지명'].tolist()  # '관광지명'은 엑셀 컬럼의 이름\n",
    "tourist_spots"
   ]
  },
  {
   "cell_type": "code",
   "execution_count": 99,
   "id": "0f1abb2a",
   "metadata": {},
   "outputs": [
    {
     "name": "stdout",
     "output_type": "stream",
     "text": [
      "                       관광지     점수\n",
      "0                천안종합버스터미널    2.5\n",
      "1              신세계백화점천안아산점    4.0\n",
      "2                    독립기념관    4.6\n",
      "3             갤러리아백화점센터시티점    3.8\n",
      "4               모다아울렛천안아산점    3.0\n",
      "5                   천안중앙시장    3.8\n",
      "6              천안시농수산물도매시장    3.7\n",
      "7                   천안축구센터    4.2\n",
      "8                   오션어드벤처    3.8\n",
      "9                   천안상록CC    4.3\n",
      "10                     각원사    4.6\n",
      "11               롯데시네마천안불당    2.0\n",
      "12               CGV천안펜타포트    3.4\n",
      "13                 천안상록리조트    4.1\n",
      "14                골프존카운티천안    4.0\n",
      "15                 마론뉴데이CC    2.4\n",
      "16               천안고속버스터미널    2.5\n",
      "17                  우정힐스CC    4.3\n",
      "18              렛츠런CCC천안지점    5.0\n",
      "19                 천안예술의전당    2.4\n",
      "20  천안박물관휴관중(2025년06월개관예정)  점수 없음\n",
      "21               롯데시네마천안청당    4.9\n",
      "22                 CGV천안시청    4.2\n",
      "23                  성성호수공원    3.9\n",
      "24                  메가박스천안    3.3\n",
      "25                  메가도매센터    3.8\n",
      "26                     광덕사    5.0\n",
      "27                 천안삼거리공원    3.1\n",
      "28                태학산자연휴양림    4.2\n",
      "29           천안성성호수공원방문자센터    3.7\n",
      "30                CGV천안터미널    4.6\n",
      "31              국립중앙청소년수련원    5.0\n",
      "32               아름다운정원화수목    2.4\n",
      "33               성환시외버스터미널    2.7\n",
      "34                   CGV천안    2.5\n",
      "35                     천호지    4.3\n",
      "36             바운스슈퍼파크천안센터    3.3\n",
      "37                천안홍대용과학관    4.0\n",
      "38                천안타운홀전망대    4.4\n",
      "39                천안시민체육공원    4.4\n",
      "40                  원성천벚꽃길  점수 없음\n",
      "41                   아우내장터    4.1\n",
      "42                  천안골프클럽    3.9\n",
      "43                  청수호수공원    3.8\n",
      "44                유관순열사기념관    5.0\n",
      "45               상록리조트상록랜드    4.3\n",
      "46                  성환이화시장    4.3\n",
      "47            천안시태조산청소년수련관  점수 없음\n",
      "48                     봉서홀    5.0\n"
     ]
    }
   ],
   "source": [
    "# 점수 데이터를 저장할 리스트\n",
    "scores = []\n",
    "\n",
    "for spot in tourist_spots:\n",
    "    # 검색어 입력\n",
    "    search_area = driver.find_element(By.XPATH, r'//*[@id=\"search.keyword.query\"]')\n",
    "    search_area.clear()  # 검색창 초기화\n",
    "    search_area.send_keys(spot)  # 검색어 전달\n",
    "    driver.find_element(By.XPATH, r'//*[@id=\"search.keyword.submit\"]').send_keys(Keys.ENTER)  # 돋보기 클릭\n",
    "\n",
    "    time.sleep(5)  # 페이지 로딩 대기\n",
    "\n",
    "    # 장소 탭 클릭\n",
    "    driver.find_element(By.XPATH, r'//*[@id=\"info.main.options\"]/li[2]/a').send_keys(Keys.ENTER)\n",
    "\n",
    "    time.sleep(2)  # 페이지 로딩 대기\n",
    "\n",
    "    try:\n",
    "        # 점수 요소 선택\n",
    "        score_element = driver.find_element(By.XPATH, r'//*[@data-id=\"scoreNum\" and @class=\"num\"]')\n",
    "        # 점수 텍스트 가져오기\n",
    "        score = score_element.text\n",
    "    except Exception as e:\n",
    "        score = '점수 없음'  # 점수를 가져오지 못했을 경우\n",
    "\n",
    "    # 점수 저장\n",
    "    scores.append({'관광지': spot, '점수': score})\n",
    "\n",
    "# 데이터프레임 생성\n",
    "df = pd.DataFrame(scores)\n",
    "\n",
    "# 결과 출력\n",
    "print(df)\n",
    "\n",
    "# 브라우저 종료\n",
    "driver.quit()\n"
   ]
  }
 ],
 "metadata": {
  "kernelspec": {
   "display_name": "Python 3 (ipykernel)",
   "language": "python",
   "name": "python3"
  },
  "language_info": {
   "codemirror_mode": {
    "name": "ipython",
    "version": 3
   },
   "file_extension": ".py",
   "mimetype": "text/x-python",
   "name": "python",
   "nbconvert_exporter": "python",
   "pygments_lexer": "ipython3",
   "version": "3.11.4"
  }
 },
 "nbformat": 4,
 "nbformat_minor": 5
}
